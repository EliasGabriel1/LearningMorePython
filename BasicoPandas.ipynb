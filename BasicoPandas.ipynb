{
  "nbformat": 4,
  "nbformat_minor": 0,
  "metadata": {
    "colab": {
      "name": "BasicoPandas.ipynb",
      "provenance": [],
      "authorship_tag": "ABX9TyM6U/wkczScWjzHWNo3NiBW",
      "include_colab_link": true
    },
    "kernelspec": {
      "name": "python3",
      "display_name": "Python 3"
    }
  },
  "cells": [
    {
      "cell_type": "markdown",
      "metadata": {
        "id": "view-in-github",
        "colab_type": "text"
      },
      "source": [
        "<a href=\"https://colab.research.google.com/github/EliasGabriel1/ProjetoUmBrasilMelhor/blob/main/BasicoPandas.ipynb\" target=\"_parent\"><img src=\"https://colab.research.google.com/assets/colab-badge.svg\" alt=\"Open In Colab\"/></a>"
      ]
    },
    {
      "cell_type": "code",
      "metadata": {
        "id": "L1_exvt6t252"
      },
      "source": [
        "#Nesse notbook, quero mostrar o básico de lógica com o pandas, antes de tudo vamos chamar a labrary do pandas, assim:\r\n",
        "import pandas as pd\r\n",
        "# e também a do numpy, aonde vamos chamar a library do numpy, que vamos criar os arrays do data frame\r\n",
        "import numpy as np\r\n",
        "\r\n",
        "#para quem não conhece nada de python será complicado entender esse notbook por mais que seja bem explicativo, tem que saber o minimo de python,\r\n",
        "#mas de forma simples, sempre chamamos as bibliotecas com o import library mais o seu nome abreviado (as np, as pd, as plt, as sns entre outros)"
      ],
      "execution_count": 2,
      "outputs": []
    },
    {
      "cell_type": "code",
      "metadata": {
        "id": "1Oink6Fuv40M"
      },
      "source": [
        "#Como falado, vamos usar o numpy para criar arrays para o df, comassim? quando formos fazer as analises de csv ou Data Frames, será chamado as df\r\n",
        "#df=pd.read_csv(src entre aspas, encoding e as vezes é necessário por a separação assim: sep:',' or sep:'|')\r\n",
        "#desta forma: df = pd.read_csv('namecsv.csv', delimiter=';'(ou pode usar o sep='',), encoding='iso-8859-1)\r\n",
        "#podendo ser encoding='latin1' or encoding='cp1252' ."
      ],
      "execution_count": 4,
      "outputs": []
    },
    {
      "cell_type": "code",
      "metadata": {
        "id": "LG8xiB-HygIV"
      },
      "source": [
        "#aqui então vamos criar o array pelo numpy, sempre chamando o numpy pelo apelido(np), colocamos o nome do array de data, assim passamos os valores \r\n",
        "#do pais, cidade e valor da população respectivamente, antes de dar nomes as colunas e do index.\r\n",
        "#poderia ser um array menor mas não muda a logica, assim: data =np.array([['Portugal', 'Lisboa', 10000000], ['Peru', 'Lima', 32000000]]), porém \r\n",
        "#pra ter mais dados no df, eu fiz um array de 8 linhas\r\n",
        "data =np.array([['Portugal', 'Lisboa', 10000000], ['Peru', 'Lima', 32000000],['Chile', 'Santiago', 18000000],['Brasil', 'Brasília', 209000000],\r\n",
        "                ['França', 'Paris', 77000000], ['USA', 'Washington, D.C.', 328000000],['Japão', 'Tóquio', 126000000],['coreia', 'Seul', 51640000]])"
      ],
      "execution_count": 14,
      "outputs": []
    },
    {
      "cell_type": "code",
      "metadata": {
        "colab": {
          "base_uri": "https://localhost:8080/"
        },
        "id": "rAV7SBbO1Kdy",
        "outputId": "cbad719e-b0bb-4a2e-f50f-5df6ce6cfaa3"
      },
      "source": [
        "#se perceber, tem muitos arquivos e APIs que possui dados nessa forma, semelhante ou do tipo json, como esse dataframe usado no meu outro \r\n",
        "#notbook: http://bit.ly/chiporders\r\n",
        "data"
      ],
      "execution_count": 78,
      "outputs": [
        {
          "output_type": "execute_result",
          "data": {
            "text/plain": [
              "array([['Portugal', 'Lisboa', '10000000'],\n",
              "       ['Peru', 'Lima', '32000000'],\n",
              "       ['Chile', 'Santiago', '18000000'],\n",
              "       ['Brasil', 'Brasília', '209000000'],\n",
              "       ['França', 'Paris', '77000000'],\n",
              "       ['USA', 'Washington, D.C.', '328000000'],\n",
              "       ['Japão', 'Tóquio', '126000000'],\n",
              "       ['coreia', 'Seul', '51640000']], dtype='<U16')"
            ]
          },
          "metadata": {
            "tags": []
          },
          "execution_count": 78
        }
      ]
    },
    {
      "cell_type": "code",
      "metadata": {
        "id": "i7wI4TZ0yObB"
      },
      "source": [
        "#aqui então criamos o data frame pelo PANDAS, chamando o array feito acima com o NUMPY, colocando o número da linha\r\n",
        "#(index, range qualquer nome do tipo podemos dar a isso ai), e o nomes das colunas respectivamente assim:\r\n",
        "df = pd.DataFrame(data, index=range(100,108),columns=['País', 'Capital', 'População'])"
      ],
      "execution_count": 19,
      "outputs": []
    },
    {
      "cell_type": "code",
      "metadata": {
        "colab": {
          "base_uri": "https://localhost:8080/",
          "height": 297
        },
        "id": "gSOFY6fQyVFx",
        "outputId": "d43f3f55-01dc-401e-c5da-90312e5b25a5"
      },
      "source": [
        "#Exibimos o DF(DataFrame)\r\n",
        "df"
      ],
      "execution_count": 20,
      "outputs": [
        {
          "output_type": "execute_result",
          "data": {
            "text/html": [
              "<div>\n",
              "<style scoped>\n",
              "    .dataframe tbody tr th:only-of-type {\n",
              "        vertical-align: middle;\n",
              "    }\n",
              "\n",
              "    .dataframe tbody tr th {\n",
              "        vertical-align: top;\n",
              "    }\n",
              "\n",
              "    .dataframe thead th {\n",
              "        text-align: right;\n",
              "    }\n",
              "</style>\n",
              "<table border=\"1\" class=\"dataframe\">\n",
              "  <thead>\n",
              "    <tr style=\"text-align: right;\">\n",
              "      <th></th>\n",
              "      <th>País</th>\n",
              "      <th>Capital</th>\n",
              "      <th>População</th>\n",
              "    </tr>\n",
              "  </thead>\n",
              "  <tbody>\n",
              "    <tr>\n",
              "      <th>100</th>\n",
              "      <td>Portugal</td>\n",
              "      <td>Lisboa</td>\n",
              "      <td>10000000</td>\n",
              "    </tr>\n",
              "    <tr>\n",
              "      <th>101</th>\n",
              "      <td>Peru</td>\n",
              "      <td>Lima</td>\n",
              "      <td>32000000</td>\n",
              "    </tr>\n",
              "    <tr>\n",
              "      <th>102</th>\n",
              "      <td>Chile</td>\n",
              "      <td>Santiago</td>\n",
              "      <td>18000000</td>\n",
              "    </tr>\n",
              "    <tr>\n",
              "      <th>103</th>\n",
              "      <td>Brasil</td>\n",
              "      <td>Brasília</td>\n",
              "      <td>209000000</td>\n",
              "    </tr>\n",
              "    <tr>\n",
              "      <th>104</th>\n",
              "      <td>França</td>\n",
              "      <td>Paris</td>\n",
              "      <td>77000000</td>\n",
              "    </tr>\n",
              "    <tr>\n",
              "      <th>105</th>\n",
              "      <td>USA</td>\n",
              "      <td>Washington, D.C.</td>\n",
              "      <td>328000000</td>\n",
              "    </tr>\n",
              "    <tr>\n",
              "      <th>106</th>\n",
              "      <td>Japão</td>\n",
              "      <td>Tóquio</td>\n",
              "      <td>126000000</td>\n",
              "    </tr>\n",
              "    <tr>\n",
              "      <th>107</th>\n",
              "      <td>coreia</td>\n",
              "      <td>Seul</td>\n",
              "      <td>51640000</td>\n",
              "    </tr>\n",
              "  </tbody>\n",
              "</table>\n",
              "</div>"
            ],
            "text/plain": [
              "         País           Capital  População\n",
              "100  Portugal            Lisboa   10000000\n",
              "101      Peru              Lima   32000000\n",
              "102     Chile          Santiago   18000000\n",
              "103    Brasil          Brasília  209000000\n",
              "104    França             Paris   77000000\n",
              "105       USA  Washington, D.C.  328000000\n",
              "106     Japão            Tóquio  126000000\n",
              "107    coreia              Seul   51640000"
            ]
          },
          "metadata": {
            "tags": []
          },
          "execution_count": 20
        }
      ]
    },
    {
      "cell_type": "code",
      "metadata": {
        "colab": {
          "base_uri": "https://localhost:8080/",
          "height": 204
        },
        "id": "cfk-_XL2zYgJ",
        "outputId": "9be678ee-4640-4cf8-e5ce-5ea838669677"
      },
      "source": [
        "#podemos já ir acostumando ao comando head, que mostra os primeiros números de uma data frame, assim:\r\n",
        "df.head(5)\r\n",
        "#mostrando os 5 primeiros valores da df"
      ],
      "execution_count": 21,
      "outputs": [
        {
          "output_type": "execute_result",
          "data": {
            "text/html": [
              "<div>\n",
              "<style scoped>\n",
              "    .dataframe tbody tr th:only-of-type {\n",
              "        vertical-align: middle;\n",
              "    }\n",
              "\n",
              "    .dataframe tbody tr th {\n",
              "        vertical-align: top;\n",
              "    }\n",
              "\n",
              "    .dataframe thead th {\n",
              "        text-align: right;\n",
              "    }\n",
              "</style>\n",
              "<table border=\"1\" class=\"dataframe\">\n",
              "  <thead>\n",
              "    <tr style=\"text-align: right;\">\n",
              "      <th></th>\n",
              "      <th>País</th>\n",
              "      <th>Capital</th>\n",
              "      <th>População</th>\n",
              "    </tr>\n",
              "  </thead>\n",
              "  <tbody>\n",
              "    <tr>\n",
              "      <th>100</th>\n",
              "      <td>Portugal</td>\n",
              "      <td>Lisboa</td>\n",
              "      <td>10000000</td>\n",
              "    </tr>\n",
              "    <tr>\n",
              "      <th>101</th>\n",
              "      <td>Peru</td>\n",
              "      <td>Lima</td>\n",
              "      <td>32000000</td>\n",
              "    </tr>\n",
              "    <tr>\n",
              "      <th>102</th>\n",
              "      <td>Chile</td>\n",
              "      <td>Santiago</td>\n",
              "      <td>18000000</td>\n",
              "    </tr>\n",
              "    <tr>\n",
              "      <th>103</th>\n",
              "      <td>Brasil</td>\n",
              "      <td>Brasília</td>\n",
              "      <td>209000000</td>\n",
              "    </tr>\n",
              "    <tr>\n",
              "      <th>104</th>\n",
              "      <td>França</td>\n",
              "      <td>Paris</td>\n",
              "      <td>77000000</td>\n",
              "    </tr>\n",
              "  </tbody>\n",
              "</table>\n",
              "</div>"
            ],
            "text/plain": [
              "         País   Capital  População\n",
              "100  Portugal    Lisboa   10000000\n",
              "101      Peru      Lima   32000000\n",
              "102     Chile  Santiago   18000000\n",
              "103    Brasil  Brasília  209000000\n",
              "104    França     Paris   77000000"
            ]
          },
          "metadata": {
            "tags": []
          },
          "execution_count": 21
        }
      ]
    },
    {
      "cell_type": "code",
      "metadata": {
        "colab": {
          "base_uri": "https://localhost:8080/"
        },
        "id": "VNJTZ7vK19V_",
        "outputId": "ef2c6f9a-1a74-4f93-fa73-29cdd9d6620a"
      },
      "source": [
        "#Tratando com suposição, veio uma vontade de mudar o nome da coluna população para qtd(quantidade de pessoas), primeiro vou ver todos os nomes das colunas\r\n",
        "#nesse caso é simples pois existe apenas 3 colunas, porém pode haver DataFrames com uma quantidade grande de colunas, ai precisamos dar comando de columns para\r\n",
        "#saber os nomes, assim:\r\n",
        "df.columns"
      ],
      "execution_count": 24,
      "outputs": [
        {
          "output_type": "execute_result",
          "data": {
            "text/plain": [
              "Index(['País', 'Capital', 'População'], dtype='object')"
            ]
          },
          "metadata": {
            "tags": []
          },
          "execution_count": 24
        }
      ]
    },
    {
      "cell_type": "code",
      "metadata": {
        "colab": {
          "base_uri": "https://localhost:8080/",
          "height": 297
        },
        "id": "mYtv_PJQ10df",
        "outputId": "91dfe07f-1629-4385-f22e-a393649614b6"
      },
      "source": [
        "#Aqui então iremos trocar os nomes das colunas, e sempre seguindo o padrão de aspas *SIMPLES*, se não irá dar erro.\r\n",
        "df.rename(columns={'País':'País', 'Capital':'Capital', 'População':'qtd'})"
      ],
      "execution_count": 35,
      "outputs": [
        {
          "output_type": "execute_result",
          "data": {
            "text/html": [
              "<div>\n",
              "<style scoped>\n",
              "    .dataframe tbody tr th:only-of-type {\n",
              "        vertical-align: middle;\n",
              "    }\n",
              "\n",
              "    .dataframe tbody tr th {\n",
              "        vertical-align: top;\n",
              "    }\n",
              "\n",
              "    .dataframe thead th {\n",
              "        text-align: right;\n",
              "    }\n",
              "</style>\n",
              "<table border=\"1\" class=\"dataframe\">\n",
              "  <thead>\n",
              "    <tr style=\"text-align: right;\">\n",
              "      <th></th>\n",
              "      <th>País</th>\n",
              "      <th>Capital</th>\n",
              "      <th>qtd</th>\n",
              "    </tr>\n",
              "  </thead>\n",
              "  <tbody>\n",
              "    <tr>\n",
              "      <th>100</th>\n",
              "      <td>Portugal</td>\n",
              "      <td>Lisboa</td>\n",
              "      <td>10000000</td>\n",
              "    </tr>\n",
              "    <tr>\n",
              "      <th>101</th>\n",
              "      <td>Peru</td>\n",
              "      <td>Lima</td>\n",
              "      <td>32000000</td>\n",
              "    </tr>\n",
              "    <tr>\n",
              "      <th>102</th>\n",
              "      <td>Chile</td>\n",
              "      <td>Santiago</td>\n",
              "      <td>18000000</td>\n",
              "    </tr>\n",
              "    <tr>\n",
              "      <th>103</th>\n",
              "      <td>Brasil</td>\n",
              "      <td>Brasília</td>\n",
              "      <td>209000000</td>\n",
              "    </tr>\n",
              "    <tr>\n",
              "      <th>104</th>\n",
              "      <td>França</td>\n",
              "      <td>Paris</td>\n",
              "      <td>77000000</td>\n",
              "    </tr>\n",
              "    <tr>\n",
              "      <th>105</th>\n",
              "      <td>USA</td>\n",
              "      <td>Washington, D.C.</td>\n",
              "      <td>328000000</td>\n",
              "    </tr>\n",
              "    <tr>\n",
              "      <th>106</th>\n",
              "      <td>Japão</td>\n",
              "      <td>Tóquio</td>\n",
              "      <td>126000000</td>\n",
              "    </tr>\n",
              "    <tr>\n",
              "      <th>107</th>\n",
              "      <td>coreia</td>\n",
              "      <td>Seul</td>\n",
              "      <td>51640000</td>\n",
              "    </tr>\n",
              "  </tbody>\n",
              "</table>\n",
              "</div>"
            ],
            "text/plain": [
              "         País           Capital        qtd\n",
              "100  Portugal            Lisboa   10000000\n",
              "101      Peru              Lima   32000000\n",
              "102     Chile          Santiago   18000000\n",
              "103    Brasil          Brasília  209000000\n",
              "104    França             Paris   77000000\n",
              "105       USA  Washington, D.C.  328000000\n",
              "106     Japão            Tóquio  126000000\n",
              "107    coreia              Seul   51640000"
            ]
          },
          "metadata": {
            "tags": []
          },
          "execution_count": 35
        }
      ]
    },
    {
      "cell_type": "code",
      "metadata": {
        "colab": {
          "base_uri": "https://localhost:8080/",
          "height": 204
        },
        "id": "p7xdyB2G3Zwk",
        "outputId": "a573f9a1-4ae6-4e3d-d574-015a1cc77df9"
      },
      "source": [
        "#pronto agora pra confirmar a mudança do titulo da coluna\r\n",
        "df.head(5)"
      ],
      "execution_count": 36,
      "outputs": [
        {
          "output_type": "execute_result",
          "data": {
            "text/html": [
              "<div>\n",
              "<style scoped>\n",
              "    .dataframe tbody tr th:only-of-type {\n",
              "        vertical-align: middle;\n",
              "    }\n",
              "\n",
              "    .dataframe tbody tr th {\n",
              "        vertical-align: top;\n",
              "    }\n",
              "\n",
              "    .dataframe thead th {\n",
              "        text-align: right;\n",
              "    }\n",
              "</style>\n",
              "<table border=\"1\" class=\"dataframe\">\n",
              "  <thead>\n",
              "    <tr style=\"text-align: right;\">\n",
              "      <th></th>\n",
              "      <th>País</th>\n",
              "      <th>Capital</th>\n",
              "      <th>qtd</th>\n",
              "    </tr>\n",
              "  </thead>\n",
              "  <tbody>\n",
              "    <tr>\n",
              "      <th>100</th>\n",
              "      <td>Portugal</td>\n",
              "      <td>Lisboa</td>\n",
              "      <td>10000000</td>\n",
              "    </tr>\n",
              "    <tr>\n",
              "      <th>101</th>\n",
              "      <td>Peru</td>\n",
              "      <td>Lima</td>\n",
              "      <td>32000000</td>\n",
              "    </tr>\n",
              "    <tr>\n",
              "      <th>102</th>\n",
              "      <td>Chile</td>\n",
              "      <td>Santiago</td>\n",
              "      <td>18000000</td>\n",
              "    </tr>\n",
              "    <tr>\n",
              "      <th>103</th>\n",
              "      <td>Brasil</td>\n",
              "      <td>Brasília</td>\n",
              "      <td>209000000</td>\n",
              "    </tr>\n",
              "    <tr>\n",
              "      <th>104</th>\n",
              "      <td>França</td>\n",
              "      <td>Paris</td>\n",
              "      <td>77000000</td>\n",
              "    </tr>\n",
              "  </tbody>\n",
              "</table>\n",
              "</div>"
            ],
            "text/plain": [
              "         País   Capital        qtd\n",
              "100  Portugal    Lisboa   10000000\n",
              "101      Peru      Lima   32000000\n",
              "102     Chile  Santiago   18000000\n",
              "103    Brasil  Brasília  209000000\n",
              "104    França     Paris   77000000"
            ]
          },
          "metadata": {
            "tags": []
          },
          "execution_count": 36
        }
      ]
    },
    {
      "cell_type": "code",
      "metadata": {
        "id": "qW6lzea63_jG"
      },
      "source": [
        "#Quando precisamos fazer mudanças que pode auterar resultados na hora da plotagem, podemos fazer o comando copy, para novas df\r\n",
        "#assim:\r\n",
        "df_1=df.copy()"
      ],
      "execution_count": 30,
      "outputs": []
    },
    {
      "cell_type": "code",
      "metadata": {
        "colab": {
          "base_uri": "https://localhost:8080/",
          "height": 297
        },
        "id": "bZIMMbEm4O3p",
        "outputId": "b50a9690-11f8-4ee1-b787-aad0b1ac99ac"
      },
      "source": [
        "#compravando se o data frame foi copiado:\r\n",
        "df_1"
      ],
      "execution_count": 32,
      "outputs": [
        {
          "output_type": "execute_result",
          "data": {
            "text/html": [
              "<div>\n",
              "<style scoped>\n",
              "    .dataframe tbody tr th:only-of-type {\n",
              "        vertical-align: middle;\n",
              "    }\n",
              "\n",
              "    .dataframe tbody tr th {\n",
              "        vertical-align: top;\n",
              "    }\n",
              "\n",
              "    .dataframe thead th {\n",
              "        text-align: right;\n",
              "    }\n",
              "</style>\n",
              "<table border=\"1\" class=\"dataframe\">\n",
              "  <thead>\n",
              "    <tr style=\"text-align: right;\">\n",
              "      <th></th>\n",
              "      <th>País</th>\n",
              "      <th>Capital</th>\n",
              "      <th>qtd</th>\n",
              "    </tr>\n",
              "  </thead>\n",
              "  <tbody>\n",
              "    <tr>\n",
              "      <th>100</th>\n",
              "      <td>Portugal</td>\n",
              "      <td>Lisboa</td>\n",
              "      <td>10000000</td>\n",
              "    </tr>\n",
              "    <tr>\n",
              "      <th>101</th>\n",
              "      <td>Peru</td>\n",
              "      <td>Lima</td>\n",
              "      <td>32000000</td>\n",
              "    </tr>\n",
              "    <tr>\n",
              "      <th>102</th>\n",
              "      <td>Chile</td>\n",
              "      <td>Santiago</td>\n",
              "      <td>18000000</td>\n",
              "    </tr>\n",
              "    <tr>\n",
              "      <th>103</th>\n",
              "      <td>Brasil</td>\n",
              "      <td>Brasília</td>\n",
              "      <td>209000000</td>\n",
              "    </tr>\n",
              "    <tr>\n",
              "      <th>104</th>\n",
              "      <td>França</td>\n",
              "      <td>Paris</td>\n",
              "      <td>77000000</td>\n",
              "    </tr>\n",
              "    <tr>\n",
              "      <th>105</th>\n",
              "      <td>USA</td>\n",
              "      <td>Washington, D.C.</td>\n",
              "      <td>328000000</td>\n",
              "    </tr>\n",
              "    <tr>\n",
              "      <th>106</th>\n",
              "      <td>Japão</td>\n",
              "      <td>Tóquio</td>\n",
              "      <td>126000000</td>\n",
              "    </tr>\n",
              "    <tr>\n",
              "      <th>107</th>\n",
              "      <td>coreia</td>\n",
              "      <td>Seul</td>\n",
              "      <td>51640000</td>\n",
              "    </tr>\n",
              "  </tbody>\n",
              "</table>\n",
              "</div>"
            ],
            "text/plain": [
              "         País           Capital        qtd\n",
              "100  Portugal            Lisboa   10000000\n",
              "101      Peru              Lima   32000000\n",
              "102     Chile          Santiago   18000000\n",
              "103    Brasil          Brasília  209000000\n",
              "104    França             Paris   77000000\n",
              "105       USA  Washington, D.C.  328000000\n",
              "106     Japão            Tóquio  126000000\n",
              "107    coreia              Seul   51640000"
            ]
          },
          "metadata": {
            "tags": []
          },
          "execution_count": 32
        }
      ]
    },
    {
      "cell_type": "code",
      "metadata": {
        "id": "SJZn_DMT1Z1g"
      },
      "source": [
        "#Sempre da mesma forma, passando o pd.DataFrame(valores, como neste exemplo o array foi criado na hora, e colunas=[nomes das colunas SEMPRE separados por \r\n",
        "#aspas SIMPLES]), podendo para melhor análise catalogar por números as linhas, ou adicionar o parametro inplance=True, para pegar apenas os dados\r\n",
        "#Com valores reais, sem valores none, Nan ou null\r\n",
        "#Podemos também criar df por array do numpy ja imbutidos, assim:\r\n",
        "df2 = pd.DataFrame(np.array([[1, 2, 3], [4, 5, 6], [7, 8, 9]]),\r\n",
        "                   columns=['a', 'b', 'c'])"
      ],
      "execution_count": 33,
      "outputs": []
    },
    {
      "cell_type": "code",
      "metadata": {
        "colab": {
          "base_uri": "https://localhost:8080/",
          "height": 142
        },
        "id": "B5tSumjq1r8p",
        "outputId": "3034c521-b7be-46a1-b079-866bedf3d9de"
      },
      "source": [
        "df2"
      ],
      "execution_count": 34,
      "outputs": [
        {
          "output_type": "execute_result",
          "data": {
            "text/html": [
              "<div>\n",
              "<style scoped>\n",
              "    .dataframe tbody tr th:only-of-type {\n",
              "        vertical-align: middle;\n",
              "    }\n",
              "\n",
              "    .dataframe tbody tr th {\n",
              "        vertical-align: top;\n",
              "    }\n",
              "\n",
              "    .dataframe thead th {\n",
              "        text-align: right;\n",
              "    }\n",
              "</style>\n",
              "<table border=\"1\" class=\"dataframe\">\n",
              "  <thead>\n",
              "    <tr style=\"text-align: right;\">\n",
              "      <th></th>\n",
              "      <th>a</th>\n",
              "      <th>b</th>\n",
              "      <th>c</th>\n",
              "    </tr>\n",
              "  </thead>\n",
              "  <tbody>\n",
              "    <tr>\n",
              "      <th>0</th>\n",
              "      <td>1</td>\n",
              "      <td>2</td>\n",
              "      <td>3</td>\n",
              "    </tr>\n",
              "    <tr>\n",
              "      <th>1</th>\n",
              "      <td>4</td>\n",
              "      <td>5</td>\n",
              "      <td>6</td>\n",
              "    </tr>\n",
              "    <tr>\n",
              "      <th>2</th>\n",
              "      <td>7</td>\n",
              "      <td>8</td>\n",
              "      <td>9</td>\n",
              "    </tr>\n",
              "  </tbody>\n",
              "</table>\n",
              "</div>"
            ],
            "text/plain": [
              "   a  b  c\n",
              "0  1  2  3\n",
              "1  4  5  6\n",
              "2  7  8  9"
            ]
          },
          "metadata": {
            "tags": []
          },
          "execution_count": 34
        }
      ]
    },
    {
      "cell_type": "code",
      "metadata": {
        "colab": {
          "base_uri": "https://localhost:8080/",
          "height": 204
        },
        "id": "4PFD-vug4gyH",
        "outputId": "3815f650-fe8e-4387-d863-9079d2eee657"
      },
      "source": [
        "#Trabalhando com valores NA e NONE\r\n",
        "#Dados que muitos df possui valores como NaN ou none, precisamos ver as colunas e linhas com todos os valores\r\n",
        "#Podemos fazer desta forma(passando os nomes das colunas e os valores):\r\n",
        "client_dictionary = {'name': ['Michael', 'Ana', 'Sean', 'Carl', 'Bob'], \r\n",
        "                     'second name': [None, 'Angel', 'Ben', 'Frank', 'Daniel'],\r\n",
        "                     'birth place': ['New York', 'New York', 'Los Angeles', 'New York', 'New York'],\r\n",
        "                     'age': [10, 35, 56, None, 28],\r\n",
        "                     'number of children': [0, None, 2, 1, 1]}\r\n",
        "df = pd.DataFrame(client_dictionary)\r\n",
        "df.head(5)"
      ],
      "execution_count": 64,
      "outputs": [
        {
          "output_type": "execute_result",
          "data": {
            "text/html": [
              "<div>\n",
              "<style scoped>\n",
              "    .dataframe tbody tr th:only-of-type {\n",
              "        vertical-align: middle;\n",
              "    }\n",
              "\n",
              "    .dataframe tbody tr th {\n",
              "        vertical-align: top;\n",
              "    }\n",
              "\n",
              "    .dataframe thead th {\n",
              "        text-align: right;\n",
              "    }\n",
              "</style>\n",
              "<table border=\"1\" class=\"dataframe\">\n",
              "  <thead>\n",
              "    <tr style=\"text-align: right;\">\n",
              "      <th></th>\n",
              "      <th>name</th>\n",
              "      <th>second name</th>\n",
              "      <th>birth place</th>\n",
              "      <th>age</th>\n",
              "      <th>number of children</th>\n",
              "    </tr>\n",
              "  </thead>\n",
              "  <tbody>\n",
              "    <tr>\n",
              "      <th>0</th>\n",
              "      <td>Michael</td>\n",
              "      <td>None</td>\n",
              "      <td>New York</td>\n",
              "      <td>10.0</td>\n",
              "      <td>0.0</td>\n",
              "    </tr>\n",
              "    <tr>\n",
              "      <th>1</th>\n",
              "      <td>Ana</td>\n",
              "      <td>Angel</td>\n",
              "      <td>New York</td>\n",
              "      <td>35.0</td>\n",
              "      <td>NaN</td>\n",
              "    </tr>\n",
              "    <tr>\n",
              "      <th>2</th>\n",
              "      <td>Sean</td>\n",
              "      <td>Ben</td>\n",
              "      <td>Los Angeles</td>\n",
              "      <td>56.0</td>\n",
              "      <td>2.0</td>\n",
              "    </tr>\n",
              "    <tr>\n",
              "      <th>3</th>\n",
              "      <td>Carl</td>\n",
              "      <td>Frank</td>\n",
              "      <td>New York</td>\n",
              "      <td>NaN</td>\n",
              "      <td>1.0</td>\n",
              "    </tr>\n",
              "    <tr>\n",
              "      <th>4</th>\n",
              "      <td>Bob</td>\n",
              "      <td>Daniel</td>\n",
              "      <td>New York</td>\n",
              "      <td>28.0</td>\n",
              "      <td>1.0</td>\n",
              "    </tr>\n",
              "  </tbody>\n",
              "</table>\n",
              "</div>"
            ],
            "text/plain": [
              "      name second name  birth place   age  number of children\n",
              "0  Michael        None     New York  10.0                 0.0\n",
              "1      Ana       Angel     New York  35.0                 NaN\n",
              "2     Sean         Ben  Los Angeles  56.0                 2.0\n",
              "3     Carl       Frank     New York   NaN                 1.0\n",
              "4      Bob      Daniel     New York  28.0                 1.0"
            ]
          },
          "metadata": {
            "tags": []
          },
          "execution_count": 64
        }
      ]
    },
    {
      "cell_type": "code",
      "metadata": {
        "colab": {
          "base_uri": "https://localhost:8080/",
          "height": 204
        },
        "id": "CY3kK0o15Tmb",
        "outputId": "7e0498b4-8013-4db0-8f53-3f287c7f98e7"
      },
      "source": [
        "#Como falado, não queremos mexer no dataframe principal, então faremos duas copias dele, para brincarmos durantes a compilação, assim:\r\n",
        "dataf=df.copy()\r\n",
        "dataf2=df.copy()\r\n",
        "dataf"
      ],
      "execution_count": 65,
      "outputs": [
        {
          "output_type": "execute_result",
          "data": {
            "text/html": [
              "<div>\n",
              "<style scoped>\n",
              "    .dataframe tbody tr th:only-of-type {\n",
              "        vertical-align: middle;\n",
              "    }\n",
              "\n",
              "    .dataframe tbody tr th {\n",
              "        vertical-align: top;\n",
              "    }\n",
              "\n",
              "    .dataframe thead th {\n",
              "        text-align: right;\n",
              "    }\n",
              "</style>\n",
              "<table border=\"1\" class=\"dataframe\">\n",
              "  <thead>\n",
              "    <tr style=\"text-align: right;\">\n",
              "      <th></th>\n",
              "      <th>name</th>\n",
              "      <th>second name</th>\n",
              "      <th>birth place</th>\n",
              "      <th>age</th>\n",
              "      <th>number of children</th>\n",
              "    </tr>\n",
              "  </thead>\n",
              "  <tbody>\n",
              "    <tr>\n",
              "      <th>0</th>\n",
              "      <td>Michael</td>\n",
              "      <td>None</td>\n",
              "      <td>New York</td>\n",
              "      <td>10.0</td>\n",
              "      <td>0.0</td>\n",
              "    </tr>\n",
              "    <tr>\n",
              "      <th>1</th>\n",
              "      <td>Ana</td>\n",
              "      <td>Angel</td>\n",
              "      <td>New York</td>\n",
              "      <td>35.0</td>\n",
              "      <td>NaN</td>\n",
              "    </tr>\n",
              "    <tr>\n",
              "      <th>2</th>\n",
              "      <td>Sean</td>\n",
              "      <td>Ben</td>\n",
              "      <td>Los Angeles</td>\n",
              "      <td>56.0</td>\n",
              "      <td>2.0</td>\n",
              "    </tr>\n",
              "    <tr>\n",
              "      <th>3</th>\n",
              "      <td>Carl</td>\n",
              "      <td>Frank</td>\n",
              "      <td>New York</td>\n",
              "      <td>NaN</td>\n",
              "      <td>1.0</td>\n",
              "    </tr>\n",
              "    <tr>\n",
              "      <th>4</th>\n",
              "      <td>Bob</td>\n",
              "      <td>Daniel</td>\n",
              "      <td>New York</td>\n",
              "      <td>28.0</td>\n",
              "      <td>1.0</td>\n",
              "    </tr>\n",
              "  </tbody>\n",
              "</table>\n",
              "</div>"
            ],
            "text/plain": [
              "      name second name  birth place   age  number of children\n",
              "0  Michael        None     New York  10.0                 0.0\n",
              "1      Ana       Angel     New York  35.0                 NaN\n",
              "2     Sean         Ben  Los Angeles  56.0                 2.0\n",
              "3     Carl       Frank     New York   NaN                 1.0\n",
              "4      Bob      Daniel     New York  28.0                 1.0"
            ]
          },
          "metadata": {
            "tags": []
          },
          "execution_count": 65
        }
      ]
    },
    {
      "cell_type": "code",
      "metadata": {
        "colab": {
          "base_uri": "https://localhost:8080/",
          "height": 111
        },
        "id": "GAoY4fQO5vdZ",
        "outputId": "f7ca4532-3580-48c9-c857-ec154f3a828e"
      },
      "source": [
        "#Tiraremos todas as linhas ausentes com valores ausentes, assim:\r\n",
        "dataf.dropna(inplace=True)\r\n",
        "dataf.head(10)"
      ],
      "execution_count": 66,
      "outputs": [
        {
          "output_type": "execute_result",
          "data": {
            "text/html": [
              "<div>\n",
              "<style scoped>\n",
              "    .dataframe tbody tr th:only-of-type {\n",
              "        vertical-align: middle;\n",
              "    }\n",
              "\n",
              "    .dataframe tbody tr th {\n",
              "        vertical-align: top;\n",
              "    }\n",
              "\n",
              "    .dataframe thead th {\n",
              "        text-align: right;\n",
              "    }\n",
              "</style>\n",
              "<table border=\"1\" class=\"dataframe\">\n",
              "  <thead>\n",
              "    <tr style=\"text-align: right;\">\n",
              "      <th></th>\n",
              "      <th>name</th>\n",
              "      <th>second name</th>\n",
              "      <th>birth place</th>\n",
              "      <th>age</th>\n",
              "      <th>number of children</th>\n",
              "    </tr>\n",
              "  </thead>\n",
              "  <tbody>\n",
              "    <tr>\n",
              "      <th>2</th>\n",
              "      <td>Sean</td>\n",
              "      <td>Ben</td>\n",
              "      <td>Los Angeles</td>\n",
              "      <td>56.0</td>\n",
              "      <td>2.0</td>\n",
              "    </tr>\n",
              "    <tr>\n",
              "      <th>4</th>\n",
              "      <td>Bob</td>\n",
              "      <td>Daniel</td>\n",
              "      <td>New York</td>\n",
              "      <td>28.0</td>\n",
              "      <td>1.0</td>\n",
              "    </tr>\n",
              "  </tbody>\n",
              "</table>\n",
              "</div>"
            ],
            "text/plain": [
              "   name second name  birth place   age  number of children\n",
              "2  Sean         Ben  Los Angeles  56.0                 2.0\n",
              "4   Bob      Daniel     New York  28.0                 1.0"
            ]
          },
          "metadata": {
            "tags": []
          },
          "execution_count": 66
        }
      ]
    },
    {
      "cell_type": "code",
      "metadata": {
        "colab": {
          "base_uri": "https://localhost:8080/",
          "height": 111
        },
        "id": "ls31WmS66PyX",
        "outputId": "ad11022a-0dae-4d62-a55d-ae5aa16aa2ee"
      },
      "source": [
        "#Ou como falado, em df grandes, damos o head, assim:\r\n",
        "dataf.head(10)"
      ],
      "execution_count": 67,
      "outputs": [
        {
          "output_type": "execute_result",
          "data": {
            "text/html": [
              "<div>\n",
              "<style scoped>\n",
              "    .dataframe tbody tr th:only-of-type {\n",
              "        vertical-align: middle;\n",
              "    }\n",
              "\n",
              "    .dataframe tbody tr th {\n",
              "        vertical-align: top;\n",
              "    }\n",
              "\n",
              "    .dataframe thead th {\n",
              "        text-align: right;\n",
              "    }\n",
              "</style>\n",
              "<table border=\"1\" class=\"dataframe\">\n",
              "  <thead>\n",
              "    <tr style=\"text-align: right;\">\n",
              "      <th></th>\n",
              "      <th>name</th>\n",
              "      <th>second name</th>\n",
              "      <th>birth place</th>\n",
              "      <th>age</th>\n",
              "      <th>number of children</th>\n",
              "    </tr>\n",
              "  </thead>\n",
              "  <tbody>\n",
              "    <tr>\n",
              "      <th>2</th>\n",
              "      <td>Sean</td>\n",
              "      <td>Ben</td>\n",
              "      <td>Los Angeles</td>\n",
              "      <td>56.0</td>\n",
              "      <td>2.0</td>\n",
              "    </tr>\n",
              "    <tr>\n",
              "      <th>4</th>\n",
              "      <td>Bob</td>\n",
              "      <td>Daniel</td>\n",
              "      <td>New York</td>\n",
              "      <td>28.0</td>\n",
              "      <td>1.0</td>\n",
              "    </tr>\n",
              "  </tbody>\n",
              "</table>\n",
              "</div>"
            ],
            "text/plain": [
              "   name second name  birth place   age  number of children\n",
              "2  Sean         Ben  Los Angeles  56.0                 2.0\n",
              "4   Bob      Daniel     New York  28.0                 1.0"
            ]
          },
          "metadata": {
            "tags": []
          },
          "execution_count": 67
        }
      ]
    },
    {
      "cell_type": "code",
      "metadata": {
        "colab": {
          "base_uri": "https://localhost:8080/",
          "height": 204
        },
        "id": "iSu5kUs_6mQc",
        "outputId": "931a6487-62d3-410a-bc03-3cee7f73626d"
      },
      "source": [
        "#Agora faremos o contrario, tiraremos as linhas que possui todos valores\r\n",
        "dataf2.dropna(inplace=False)\r\n",
        "dataf2.head(10)"
      ],
      "execution_count": 68,
      "outputs": [
        {
          "output_type": "execute_result",
          "data": {
            "text/html": [
              "<div>\n",
              "<style scoped>\n",
              "    .dataframe tbody tr th:only-of-type {\n",
              "        vertical-align: middle;\n",
              "    }\n",
              "\n",
              "    .dataframe tbody tr th {\n",
              "        vertical-align: top;\n",
              "    }\n",
              "\n",
              "    .dataframe thead th {\n",
              "        text-align: right;\n",
              "    }\n",
              "</style>\n",
              "<table border=\"1\" class=\"dataframe\">\n",
              "  <thead>\n",
              "    <tr style=\"text-align: right;\">\n",
              "      <th></th>\n",
              "      <th>name</th>\n",
              "      <th>second name</th>\n",
              "      <th>birth place</th>\n",
              "      <th>age</th>\n",
              "      <th>number of children</th>\n",
              "    </tr>\n",
              "  </thead>\n",
              "  <tbody>\n",
              "    <tr>\n",
              "      <th>0</th>\n",
              "      <td>Michael</td>\n",
              "      <td>None</td>\n",
              "      <td>New York</td>\n",
              "      <td>10.0</td>\n",
              "      <td>0.0</td>\n",
              "    </tr>\n",
              "    <tr>\n",
              "      <th>1</th>\n",
              "      <td>Ana</td>\n",
              "      <td>Angel</td>\n",
              "      <td>New York</td>\n",
              "      <td>35.0</td>\n",
              "      <td>NaN</td>\n",
              "    </tr>\n",
              "    <tr>\n",
              "      <th>2</th>\n",
              "      <td>Sean</td>\n",
              "      <td>Ben</td>\n",
              "      <td>Los Angeles</td>\n",
              "      <td>56.0</td>\n",
              "      <td>2.0</td>\n",
              "    </tr>\n",
              "    <tr>\n",
              "      <th>3</th>\n",
              "      <td>Carl</td>\n",
              "      <td>Frank</td>\n",
              "      <td>New York</td>\n",
              "      <td>NaN</td>\n",
              "      <td>1.0</td>\n",
              "    </tr>\n",
              "    <tr>\n",
              "      <th>4</th>\n",
              "      <td>Bob</td>\n",
              "      <td>Daniel</td>\n",
              "      <td>New York</td>\n",
              "      <td>28.0</td>\n",
              "      <td>1.0</td>\n",
              "    </tr>\n",
              "  </tbody>\n",
              "</table>\n",
              "</div>"
            ],
            "text/plain": [
              "      name second name  birth place   age  number of children\n",
              "0  Michael        None     New York  10.0                 0.0\n",
              "1      Ana       Angel     New York  35.0                 NaN\n",
              "2     Sean         Ben  Los Angeles  56.0                 2.0\n",
              "3     Carl       Frank     New York   NaN                 1.0\n",
              "4      Bob      Daniel     New York  28.0                 1.0"
            ]
          },
          "metadata": {
            "tags": []
          },
          "execution_count": 68
        }
      ]
    },
    {
      "cell_type": "code",
      "metadata": {
        "colab": {
          "base_uri": "https://localhost:8080/",
          "height": 111
        },
        "id": "3WZRyMOq7TY6",
        "outputId": "5ab1cfb0-f242-402b-98bc-fdbf7c97f923"
      },
      "source": [
        "#Mas e se eu quero todos os nomes que tem sobrenomes, que falou a cidade e a idade mas não falou o numero de filhos?\r\n",
        "#Num caso expecial eu só quero saber as pessoas que falaram idependente de nome, sobrenome\r\n",
        "#Assim:\r\n",
        "dataf.dropna(inplace=True, subset=['second name', 'age'])\r\n",
        "dataf.head()"
      ],
      "execution_count": 69,
      "outputs": [
        {
          "output_type": "execute_result",
          "data": {
            "text/html": [
              "<div>\n",
              "<style scoped>\n",
              "    .dataframe tbody tr th:only-of-type {\n",
              "        vertical-align: middle;\n",
              "    }\n",
              "\n",
              "    .dataframe tbody tr th {\n",
              "        vertical-align: top;\n",
              "    }\n",
              "\n",
              "    .dataframe thead th {\n",
              "        text-align: right;\n",
              "    }\n",
              "</style>\n",
              "<table border=\"1\" class=\"dataframe\">\n",
              "  <thead>\n",
              "    <tr style=\"text-align: right;\">\n",
              "      <th></th>\n",
              "      <th>name</th>\n",
              "      <th>second name</th>\n",
              "      <th>birth place</th>\n",
              "      <th>age</th>\n",
              "      <th>number of children</th>\n",
              "    </tr>\n",
              "  </thead>\n",
              "  <tbody>\n",
              "    <tr>\n",
              "      <th>2</th>\n",
              "      <td>Sean</td>\n",
              "      <td>Ben</td>\n",
              "      <td>Los Angeles</td>\n",
              "      <td>56.0</td>\n",
              "      <td>2.0</td>\n",
              "    </tr>\n",
              "    <tr>\n",
              "      <th>4</th>\n",
              "      <td>Bob</td>\n",
              "      <td>Daniel</td>\n",
              "      <td>New York</td>\n",
              "      <td>28.0</td>\n",
              "      <td>1.0</td>\n",
              "    </tr>\n",
              "  </tbody>\n",
              "</table>\n",
              "</div>"
            ],
            "text/plain": [
              "   name second name  birth place   age  number of children\n",
              "2  Sean         Ben  Los Angeles  56.0                 2.0\n",
              "4   Bob      Daniel     New York  28.0                 1.0"
            ]
          },
          "metadata": {
            "tags": []
          },
          "execution_count": 69
        }
      ]
    },
    {
      "cell_type": "code",
      "metadata": {
        "colab": {
          "base_uri": "https://localhost:8080/"
        },
        "id": "hUqqXCKK8BUJ",
        "outputId": "62e3cdc6-7995-4d33-ba99-44e3f74af9b3"
      },
      "source": [
        "#Para terminar, vamos deixar todas colunas em portuga?\r\n",
        "#Primeiro vamos ver os nomes dos valores das colunas:\r\n",
        "dataf.columns"
      ],
      "execution_count": 70,
      "outputs": [
        {
          "output_type": "execute_result",
          "data": {
            "text/plain": [
              "Index(['name', 'second name', 'birth place', 'age', 'number of children'], dtype='object')"
            ]
          },
          "metadata": {
            "tags": []
          },
          "execution_count": 70
        }
      ]
    },
    {
      "cell_type": "code",
      "metadata": {
        "colab": {
          "base_uri": "https://localhost:8080/",
          "height": 111
        },
        "id": "CLjkxiut8yv_",
        "outputId": "868b791e-cf53-4dd7-abd3-777079b2ad9d"
      },
      "source": [
        "#Depois de ver os nomes das colunas, vamos por para portugues com a função rename, assim:\r\n",
        "dataf.rename(columns={'name':'nome','second name':'segundo nome', 'birth place':'lugar de nascimento', \r\n",
        "                      'age':'idade', 'number of children':'números de filhos'})"
      ],
      "execution_count": 79,
      "outputs": [
        {
          "output_type": "execute_result",
          "data": {
            "text/html": [
              "<div>\n",
              "<style scoped>\n",
              "    .dataframe tbody tr th:only-of-type {\n",
              "        vertical-align: middle;\n",
              "    }\n",
              "\n",
              "    .dataframe tbody tr th {\n",
              "        vertical-align: top;\n",
              "    }\n",
              "\n",
              "    .dataframe thead th {\n",
              "        text-align: right;\n",
              "    }\n",
              "</style>\n",
              "<table border=\"1\" class=\"dataframe\">\n",
              "  <thead>\n",
              "    <tr style=\"text-align: right;\">\n",
              "      <th></th>\n",
              "      <th>nome</th>\n",
              "      <th>segundo nome</th>\n",
              "      <th>lugar de nascimento</th>\n",
              "      <th>idade</th>\n",
              "      <th>números de filhos</th>\n",
              "      <th>ativo</th>\n",
              "    </tr>\n",
              "  </thead>\n",
              "  <tbody>\n",
              "    <tr>\n",
              "      <th>2</th>\n",
              "      <td>Sean</td>\n",
              "      <td>Ben</td>\n",
              "      <td>Los Angeles</td>\n",
              "      <td>56.0</td>\n",
              "      <td>2.0</td>\n",
              "      <td>sim</td>\n",
              "    </tr>\n",
              "    <tr>\n",
              "      <th>4</th>\n",
              "      <td>Bob</td>\n",
              "      <td>Daniel</td>\n",
              "      <td>New York</td>\n",
              "      <td>28.0</td>\n",
              "      <td>1.0</td>\n",
              "      <td>sim</td>\n",
              "    </tr>\n",
              "  </tbody>\n",
              "</table>\n",
              "</div>"
            ],
            "text/plain": [
              "   nome segundo nome lugar de nascimento  idade  números de filhos ativo\n",
              "2  Sean          Ben         Los Angeles   56.0                2.0   sim\n",
              "4   Bob       Daniel            New York   28.0                1.0   sim"
            ]
          },
          "metadata": {
            "tags": []
          },
          "execution_count": 79
        }
      ]
    },
    {
      "cell_type": "code",
      "metadata": {
        "id": "7ERr6sBn9md0"
      },
      "source": [
        "#O .loc pode fazer muitas coisas no pandas, umas delas é adicionar colunas, assim:\r\n",
        "dataf.loc[:,'ativo']='sim'"
      ],
      "execution_count": 80,
      "outputs": []
    },
    {
      "cell_type": "code",
      "metadata": {
        "colab": {
          "base_uri": "https://localhost:8080/",
          "height": 111
        },
        "id": "6r8vzjwW-yjz",
        "outputId": "ec41cfba-bb02-406a-ed3f-ec17128f977a"
      },
      "source": [
        "#Aqui podemos perceber que toda alteração desde tirar todos dados ausentes já são gravados a cada mudança\r\n",
        "dataf.head()"
      ],
      "execution_count": 81,
      "outputs": [
        {
          "output_type": "execute_result",
          "data": {
            "text/html": [
              "<div>\n",
              "<style scoped>\n",
              "    .dataframe tbody tr th:only-of-type {\n",
              "        vertical-align: middle;\n",
              "    }\n",
              "\n",
              "    .dataframe tbody tr th {\n",
              "        vertical-align: top;\n",
              "    }\n",
              "\n",
              "    .dataframe thead th {\n",
              "        text-align: right;\n",
              "    }\n",
              "</style>\n",
              "<table border=\"1\" class=\"dataframe\">\n",
              "  <thead>\n",
              "    <tr style=\"text-align: right;\">\n",
              "      <th></th>\n",
              "      <th>name</th>\n",
              "      <th>second name</th>\n",
              "      <th>birth place</th>\n",
              "      <th>age</th>\n",
              "      <th>number of children</th>\n",
              "      <th>ativo</th>\n",
              "    </tr>\n",
              "  </thead>\n",
              "  <tbody>\n",
              "    <tr>\n",
              "      <th>2</th>\n",
              "      <td>Sean</td>\n",
              "      <td>Ben</td>\n",
              "      <td>Los Angeles</td>\n",
              "      <td>56.0</td>\n",
              "      <td>2.0</td>\n",
              "      <td>sim</td>\n",
              "    </tr>\n",
              "    <tr>\n",
              "      <th>4</th>\n",
              "      <td>Bob</td>\n",
              "      <td>Daniel</td>\n",
              "      <td>New York</td>\n",
              "      <td>28.0</td>\n",
              "      <td>1.0</td>\n",
              "      <td>sim</td>\n",
              "    </tr>\n",
              "  </tbody>\n",
              "</table>\n",
              "</div>"
            ],
            "text/plain": [
              "   name second name  birth place   age  number of children ativo\n",
              "2  Sean         Ben  Los Angeles  56.0                 2.0   sim\n",
              "4   Bob      Daniel     New York  28.0                 1.0   sim"
            ]
          },
          "metadata": {
            "tags": []
          },
          "execution_count": 81
        }
      ]
    },
    {
      "cell_type": "code",
      "metadata": {
        "id": "olCzdupIBrcL"
      },
      "source": [
        "#Como ultimo caso, tem um dataframe usado em algumas aulas de datascience no youtube,\r\n",
        "#Irei mostrar um problema simples que sempre acontece, o dataframe apresenta separação por tabulação, sem coluna, então temos que por os nomes assim:\r\n",
        "col_names = ['Id','Age', 'Gender', 'Occupation', 'Salary']\r\n",
        "#e fazer todo processo falado, passar os array ou valores, falando qual a separação e os nomes das colunas\r\n",
        "#Como ja fizemos uma váriavel com os nomes das colunas, só iremos passar a váriavel para a data frame, assim:\r\n",
        "data = pd.read_table('http://bit.ly/movieusers', sep='|', header = None, names=col_names)"
      ],
      "execution_count": 85,
      "outputs": []
    },
    {
      "cell_type": "code",
      "metadata": {
        "colab": {
          "base_uri": "https://localhost:8080/",
          "height": 204
        },
        "id": "Pyzy57VECs_F",
        "outputId": "20364ad4-38a4-46ea-aa82-36161e8e7188"
      },
      "source": [
        "data.head()"
      ],
      "execution_count": 86,
      "outputs": [
        {
          "output_type": "execute_result",
          "data": {
            "text/html": [
              "<div>\n",
              "<style scoped>\n",
              "    .dataframe tbody tr th:only-of-type {\n",
              "        vertical-align: middle;\n",
              "    }\n",
              "\n",
              "    .dataframe tbody tr th {\n",
              "        vertical-align: top;\n",
              "    }\n",
              "\n",
              "    .dataframe thead th {\n",
              "        text-align: right;\n",
              "    }\n",
              "</style>\n",
              "<table border=\"1\" class=\"dataframe\">\n",
              "  <thead>\n",
              "    <tr style=\"text-align: right;\">\n",
              "      <th></th>\n",
              "      <th>Id</th>\n",
              "      <th>Age</th>\n",
              "      <th>Gender</th>\n",
              "      <th>Occupation</th>\n",
              "      <th>Salary</th>\n",
              "    </tr>\n",
              "  </thead>\n",
              "  <tbody>\n",
              "    <tr>\n",
              "      <th>0</th>\n",
              "      <td>1</td>\n",
              "      <td>24</td>\n",
              "      <td>M</td>\n",
              "      <td>technician</td>\n",
              "      <td>85711</td>\n",
              "    </tr>\n",
              "    <tr>\n",
              "      <th>1</th>\n",
              "      <td>2</td>\n",
              "      <td>53</td>\n",
              "      <td>F</td>\n",
              "      <td>other</td>\n",
              "      <td>94043</td>\n",
              "    </tr>\n",
              "    <tr>\n",
              "      <th>2</th>\n",
              "      <td>3</td>\n",
              "      <td>23</td>\n",
              "      <td>M</td>\n",
              "      <td>writer</td>\n",
              "      <td>32067</td>\n",
              "    </tr>\n",
              "    <tr>\n",
              "      <th>3</th>\n",
              "      <td>4</td>\n",
              "      <td>24</td>\n",
              "      <td>M</td>\n",
              "      <td>technician</td>\n",
              "      <td>43537</td>\n",
              "    </tr>\n",
              "    <tr>\n",
              "      <th>4</th>\n",
              "      <td>5</td>\n",
              "      <td>33</td>\n",
              "      <td>F</td>\n",
              "      <td>other</td>\n",
              "      <td>15213</td>\n",
              "    </tr>\n",
              "  </tbody>\n",
              "</table>\n",
              "</div>"
            ],
            "text/plain": [
              "   Id  Age Gender  Occupation Salary\n",
              "0   1   24      M  technician  85711\n",
              "1   2   53      F       other  94043\n",
              "2   3   23      M      writer  32067\n",
              "3   4   24      M  technician  43537\n",
              "4   5   33      F       other  15213"
            ]
          },
          "metadata": {
            "tags": []
          },
          "execution_count": 86
        }
      ]
    }
  ]
}